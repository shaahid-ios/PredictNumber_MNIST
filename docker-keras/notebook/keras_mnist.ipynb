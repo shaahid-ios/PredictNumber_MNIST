{
 "cells": [
  {
   "cell_type": "markdown",
   "metadata": {},
   "source": [
    "# Keras Tutorial\n",
    "\n",
    "## Import Utilities & Dependencies\n",
    "\n",
    "- `print_function` works in Python 2 and Python 3\n",
    "- Keras uses the NumPy mathematics library to manipulate arrays and matrices. Matplotlib is a plotting library for NumPy: you'll use it to inspect a training data item.\n",
    "- Import Keras 2.0.6 and the components needed for the model. [FutureWarning due to NumPy 1.14](https://github.com/h5py/h5py/issues/961)\n",
    "- Import coremltools"
   ]
  },
  {
   "cell_type": "code",
   "execution_count": null,
   "metadata": {},
   "outputs": [],
   "source": [
    "from __future__ import print_function\n",
    "from matplotlib import pyplot as plt\n",
    "\n",
    "import keras\n",
    "from keras.datasets import mnist\n",
    "from keras.models import Sequential\n",
    "from keras.layers import Dense, Dropout, Flatten\n",
    "from keras.layers import Conv2D, MaxPooling2D\n",
    "from keras.utils import np_utils\n",
    "from keras import backend as K\n",
    "\n",
    "import coremltools\n",
    "# coremltools supports Keras version 2.0.6\n",
    "print('keras version ', keras.__version__)"
   ]
  },
  {
   "cell_type": "markdown",
   "metadata": {},
   "source": [
    "## Load & Pre-Process Data\n",
    "\n",
    "### Training & Validation Data Sets\n",
    "\n",
    "`mnist.load_data()` downloads from https://s3.amazonaws.com/img-datasets/mnist.npz — this takes a little while."
   ]
  },
  {
   "cell_type": "code",
   "execution_count": null,
   "metadata": {},
   "outputs": [],
   "source": [
    "# First, get your data!\n",
    "(x_train, y_train), (x_val, y_val) = mnist.load_data()"
   ]
  },
  {
   "cell_type": "markdown",
   "metadata": {},
   "source": [
    "### Inspect x & y Data"
   ]
  },
  {
   "cell_type": "code",
   "execution_count": null,
   "metadata": {},
   "outputs": [],
   "source": [
    "# Inspect x data\n",
    "print('x_train shape: ', x_train.shape)\n",
    "# (60000, 28, 28)\n",
    "print(x_train.shape[0], 'training samples')\n",
    "# 60000 train samples\n",
    "print('x_val shape: ', x_val.shape)\n",
    "# (10000, 28, 28)\n",
    "print(x_val.shape[0], 'validation samples')\n",
    "# 10000 validation samples\n",
    "\n",
    "print('First x sample\\n', x_train[0])\n",
    "# An array of 28 arrays, each containing 28 gray-scale values between 0 and 255\n",
    "# Plot first x sample\n",
    "plt.imshow(x_train[0])\n",
    "plt.show()\n",
    "\n",
    "# Inspect y data\n",
    "print('y_train shape: ', y_train.shape)\n",
    "# (60000,)\n",
    "print('First 10 y_train elements:', y_train[:10])\n",
    "# [5 0 4 1 9 2 1 3 1 4]"
   ]
  },
  {
   "cell_type": "markdown",
   "metadata": {},
   "source": [
    "### Set input & output dimensions\n",
    "\n",
    "MNIST data items are 28 x 28-pixel images, and you want to classify each as a digit between 0 and 9.\n",
    "\n",
    "`x_train.shape` is an array of 3 elements: number of data samples, number of rows of each data sample, number of columns of each data sample"
   ]
  },
  {
   "cell_type": "code",
   "execution_count": null,
   "metadata": {},
   "outputs": [],
   "source": [
    "img_rows, img_cols = x_train.shape[1], x_train.shape[2]\n",
    "num_classes = 10"
   ]
  },
  {
   "cell_type": "markdown",
   "metadata": {},
   "source": [
    "### Reshape x Data & Set Input Shape\n",
    "\n",
    "- Insert the channels, either before or after the image's rows and columns. MNIST data samples are gray-scale, so the number of channels is 1.\n",
    "- Set the input shape of the sample data, with the channels at the correct end."
   ]
  },
  {
   "cell_type": "code",
   "execution_count": null,
   "metadata": {
    "scrolled": true
   },
   "outputs": [],
   "source": [
    "# Set input_shape for channels_first or channels_last\n",
    "if K.image_data_format() == 'channels_first':\n",
    "    x_train = x_train.reshape(x_train.shape[0], 1, img_rows, img_cols)\n",
    "    x_val = x_val.reshape(x_val.shape[0], 1, img_rows, img_cols)\n",
    "    input_shape = (1, img_rows, img_cols)\n",
    "else:\n",
    "    x_train = x_train.reshape(x_train.shape[0], img_rows, img_cols, 1)\n",
    "    x_val = x_val.reshape(x_val.shape[0], img_rows, img_cols, 1)\n",
    "    input_shape = (img_rows, img_cols, 1)"
   ]
  },
  {
   "cell_type": "markdown",
   "metadata": {},
   "source": [
    "### Inspect Reshaped x Data\n",
    "\n",
    "TensorFlow image data format is channels-last."
   ]
  },
  {
   "cell_type": "code",
   "execution_count": null,
   "metadata": {},
   "outputs": [],
   "source": [
    "print('x_train shape:', x_train.shape)\n",
    "# x_train shape: (60000, 28, 28, 1)\n",
    "print('x_val shape:', x_val.shape)\n",
    "# x_val shape: (10000, 28, 28, 1)\n",
    "print('input_shape:', input_shape)\n",
    "# input_shape: (28, 28, 1)"
   ]
  },
  {
   "cell_type": "markdown",
   "metadata": {},
   "source": [
    "### Convert Data Type & Normalize Values\n",
    "\n",
    "MNIST image data values are of type `uint8`, in the range [0, 255], but Keras needs values of type `float32`, in the range [0, 1]."
   ]
  },
  {
   "cell_type": "code",
   "execution_count": null,
   "metadata": {
    "scrolled": true
   },
   "outputs": [],
   "source": [
    "x_train = x_train.astype('float32')\n",
    "x_val = x_val.astype('float32')\n",
    "x_train /= 255\n",
    "x_val /= 255"
   ]
  },
  {
   "cell_type": "markdown",
   "metadata": {},
   "source": [
    "### Inspect Normalized x Data"
   ]
  },
  {
   "cell_type": "code",
   "execution_count": null,
   "metadata": {},
   "outputs": [],
   "source": [
    "print('First x sample, normalized\\n', x_train[0])\n",
    "# An array of 28 arrays, each containing 28 arrays, each with one value between 0 and 1"
   ]
  },
  {
   "cell_type": "markdown",
   "metadata": {},
   "source": [
    "### Reformat y Data\n",
    "\n",
    "`y_train` is a 1-dimensional array with 60000 elements, but the model needs a 60000 x 10 matrix to represent the 10 categories.\n",
    "\n",
    "**Note:** Run this cell **once only**! Running it again will produce incorrect results."
   ]
  },
  {
   "cell_type": "code",
   "execution_count": null,
   "metadata": {},
   "outputs": [],
   "source": [
    "print('y_train shape: ', y_train.shape)\n",
    "# (60000,)\n",
    "print('First 10 y_train elements:\\n', y_train[:10])\n",
    "# [5 0 4 1 9 2 1 3 1 4]\n",
    "# Convert 1-dimensional class arrays to 10-dimensional class matrices\n",
    "y_train = np_utils.to_categorical(y_train, num_classes)\n",
    "y_val = np_utils.to_categorical(y_val, num_classes)"
   ]
  },
  {
   "cell_type": "markdown",
   "metadata": {},
   "source": [
    "### Inspect Reformatted y Data\n",
    "\n",
    "`y_train` is now an array of 10-element arrays, each containing all zeros except at the index that the image matches."
   ]
  },
  {
   "cell_type": "code",
   "execution_count": null,
   "metadata": {},
   "outputs": [],
   "source": [
    "print('New y_train shape: ', y_train.shape)\n",
    "# (60000, 10)\n",
    "print('First 10 y_train elements, reshaped:\\n', y_train[:10])\n",
    "# An array of 10 arrays, each with 10 elements, \n",
    "# all zeros except at index 5, 0, 4, 1, 9 etc."
   ]
  },
  {
   "cell_type": "markdown",
   "metadata": {},
   "source": [
    "## Define  Model Architecture\n",
    "\n",
    "### [Malireddi's Architecture](https://sriraghu.com/2017/07/06/computer-vision-in-ios-coremlkerasmnist/)"
   ]
  },
  {
   "cell_type": "code",
   "execution_count": null,
   "metadata": {
    "scrolled": true
   },
   "outputs": [],
   "source": [
    "model_m = Sequential()\n",
    "model_m.add(Conv2D(32, (5, 5), input_shape=input_shape, activation='relu'))\n",
    "model_m.add(MaxPooling2D(pool_size=(2, 2)))\n",
    "model_m.add(Dropout(0.5))\n",
    "model_m.add(Conv2D(64, (3, 3), activation='relu'))\n",
    "model_m.add(MaxPooling2D(pool_size=(2, 2)))\n",
    "model_m.add(Dropout(0.2))\n",
    "model_m.add(Conv2D(128, (1, 1), activation='relu'))\n",
    "model_m.add(MaxPooling2D(pool_size=(2, 2)))\n",
    "model_m.add(Dropout(0.2))\n",
    "model_m.add(Flatten())\n",
    "model_m.add(Dense(128, activation='relu'))\n",
    "model_m.add(Dense(num_classes, activation='softmax'))\n",
    "# Inspect model's layers, output shapes, number of trainable parameters\n",
    "print(model_m.summary())"
   ]
  },
  {
   "cell_type": "markdown",
   "metadata": {},
   "source": [
    "### [Chollet's Architecture](https://github.com/keras-team/keras/blob/master/examples/mnist_cnn.py)"
   ]
  },
  {
   "cell_type": "code",
   "execution_count": null,
   "metadata": {
    "scrolled": true
   },
   "outputs": [],
   "source": []
  },
  {
   "cell_type": "markdown",
   "metadata": {},
   "source": [
    "## Train the Model\n",
    "\n",
    "### Define Callbacks List"
   ]
  },
  {
   "cell_type": "code",
   "execution_count": null,
   "metadata": {},
   "outputs": [],
   "source": [
    "callbacks_list = [\n",
    "    keras.callbacks.ModelCheckpoint(\n",
    "        filepath='best_model.{epoch:02d}-{val_loss:.2f}.h5',\n",
    "        monitor='val_loss', save_best_only=True),\n",
    "    keras.callbacks.EarlyStopping(monitor='acc', patience=1)\n",
    "]"
   ]
  },
  {
   "cell_type": "markdown",
   "metadata": {},
   "source": [
    "### Compile & Fit Model\n",
    "\n",
    "- On a MacBook Pro, this step takes approximately 15 minutes. Reducing `batch_size` or increasing `epochs` will increase the run time.\n",
    "- You can run this cell more than once, to improve the model's accuracy.\n",
    "- To *manually* stop early, click the stop button in the toolbar."
   ]
  },
  {
   "cell_type": "code",
   "execution_count": null,
   "metadata": {
    "scrolled": false
   },
   "outputs": [],
   "source": [
    "model_m.compile(loss='categorical_crossentropy',\n",
    "                optimizer='adam', metrics=['accuracy'])\n",
    "\n",
    "# Hyper-parameters\n",
    "batch_size = 200\n",
    "epochs = 10\n",
    "\n",
    "# Enable validation to use ModelCheckpoint and EarlyStopping callbacks.\n",
    "model_m.fit(\n",
    "    x_train, y_train, batch_size=batch_size, epochs=epochs,\n",
    "    callbacks=callbacks_list, validation_data=(x_val, y_val), verbose=1)"
   ]
  },
  {
   "cell_type": "markdown",
   "metadata": {
    "collapsed": true
   },
   "source": [
    "## Convert to Core ML Model"
   ]
  },
  {
   "cell_type": "code",
   "execution_count": null,
   "metadata": {},
   "outputs": [],
   "source": [
    "output_labels = ['0', '1', '2', '3', '4', '5', '6', '7', '8', '9']\n",
    "# For the first argument, use the filename of the newest .h5 file in the notebook folder.\n",
    "coreml_mnist = coremltools.converters.keras.convert(\n",
    "    'best_model.06-0.06.h5', input_names=['image'], output_names=['output'], \n",
    "    class_labels=output_labels, image_input_names='image')"
   ]
  },
  {
   "cell_type": "markdown",
   "metadata": {
    "collapsed": true
   },
   "source": [
    "### Inspect Core ML model\n",
    "\n",
    "Check the input type is `imageType`, not multi array"
   ]
  },
  {
   "cell_type": "code",
   "execution_count": null,
   "metadata": {},
   "outputs": [],
   "source": [
    "print(coreml_mnist)"
   ]
  },
  {
   "cell_type": "markdown",
   "metadata": {
    "collapsed": true
   },
   "source": [
    "### Add Metadata for Xcode\n",
    "\n",
    "Substitute your own name and license info for the first two items"
   ]
  },
  {
   "cell_type": "code",
   "execution_count": null,
   "metadata": {},
   "outputs": [],
   "source": [
    "coreml_mnist.author = 'raywenderlich.com'\n",
    "coreml_mnist.license = 'Razeware'\n",
    "coreml_mnist.short_description = 'Image based digit recognition (MNIST)'\n",
    "coreml_mnist.input_description['image'] = 'Digit image'\n",
    "coreml_mnist.output_description['output'] = 'Probability of each digit'\n",
    "coreml_mnist.output_description['classLabel'] = 'Labels of digits'"
   ]
  },
  {
   "cell_type": "markdown",
   "metadata": {
    "collapsed": true
   },
   "source": [
    "### Save the Core ML Model"
   ]
  },
  {
   "cell_type": "code",
   "execution_count": null,
   "metadata": {},
   "outputs": [],
   "source": [
    "coreml_mnist.save('MNISTClassifier.mlmodel')"
   ]
  },
  {
   "cell_type": "code",
   "execution_count": null,
   "metadata": {},
   "outputs": [],
   "source": []
  }
 ],
 "metadata": {
  "kernelspec": {
   "display_name": "Python 2",
   "language": "python",
   "name": "python2"
  },
  "language_info": {
   "codemirror_mode": {
    "name": "ipython",
    "version": 2
   },
   "file_extension": ".py",
   "mimetype": "text/x-python",
   "name": "python",
   "nbconvert_exporter": "python",
   "pygments_lexer": "ipython2",
   "version": "2.7.12"
  }
 },
 "nbformat": 4,
 "nbformat_minor": 2
}
